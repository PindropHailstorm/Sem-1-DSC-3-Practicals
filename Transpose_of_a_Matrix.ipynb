{
  "nbformat": 4,
  "nbformat_minor": 0,
  "metadata": {
    "colab": {
      "provenance": [],
      "authorship_tag": "ABX9TyMk2HwBdhFW1VcHcuRWoxVl"
    },
    "kernelspec": {
      "name": "python3",
      "display_name": "Python 3"
    },
    "language_info": {
      "name": "python"
    }
  },
  "cells": [
    {
      "cell_type": "code",
      "execution_count": null,
      "metadata": {
        "id": "6BRPT7S1shdN"
      },
      "outputs": [],
      "source": [
        "matrix = ([10,5,2],[5,3,2], [2,2,3])"
      ]
    },
    {
      "cell_type": "code",
      "source": [
        "print (\"Matrix =\", matrix)"
      ],
      "metadata": {
        "colab": {
          "base_uri": "https://localhost:8080/"
        },
        "id": "hDRTOb14u_ny",
        "outputId": "279a91f7-2c15-4836-e58f-ae364c9199e8"
      },
      "execution_count": null,
      "outputs": [
        {
          "output_type": "stream",
          "name": "stdout",
          "text": [
            "Matrix = ([2, 5, 7], [4, 2, 9])\n"
          ]
        }
      ]
    },
    {
      "cell_type": "code",
      "source": [
        "result = ([0,0,0],[0,0,0],[0,0,0])"
      ],
      "metadata": {
        "id": "68skARw1wOBx"
      },
      "execution_count": null,
      "outputs": []
    },
    {
      "cell_type": "code",
      "source": [
        "for row in range(len(matrix)):\n",
        "    for column in range(len(matrix)):\n",
        "        result[column][row] = matrix[row][column]"
      ],
      "metadata": {
        "id": "MmBdrf_xwlcZ"
      },
      "execution_count": null,
      "outputs": []
    },
    {
      "cell_type": "code",
      "source": [
        "for r in result:\n",
        "    print (r)"
      ],
      "metadata": {
        "colab": {
          "base_uri": "https://localhost:8080/"
        },
        "id": "uCu6eg5HxKLJ",
        "outputId": "5a105030-f231-4f1f-eff9-ff54c444755e"
      },
      "execution_count": null,
      "outputs": [
        {
          "output_type": "stream",
          "name": "stdout",
          "text": [
            "[10, 5, 2]\n",
            "[5, 3, 2]\n",
            "[2, 2, 3]\n"
          ]
        }
      ]
    },
    {
      "cell_type": "code",
      "source": [],
      "metadata": {
        "id": "xVD5u-Wsx6hQ"
      },
      "execution_count": null,
      "outputs": []
    }
  ]
}