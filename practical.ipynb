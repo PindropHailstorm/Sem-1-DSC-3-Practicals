{
  "nbformat": 4,
  "nbformat_minor": 0,
  "metadata": {
    "colab": {
      "provenance": [],
      "authorship_tag": "ABX9TyOdnZj2JEABJXbfsIYJ7qf0"
    },
    "kernelspec": {
      "name": "python3",
      "display_name": "Python 3"
    },
    "language_info": {
      "name": "python"
    }
  },
  "cells": [
    {
      "cell_type": "code",
      "execution_count": 1,
      "metadata": {
        "colab": {
          "base_uri": "https://localhost:8080/"
        },
        "id": "xxMd0DKq2riM",
        "outputId": "e77349cc-bd75-4f48-a6a2-58557ddb763a"
      },
      "outputs": [
        {
          "output_type": "stream",
          "name": "stdout",
          "text": [
            "Vector is:\n",
            " [[9 8 7]]\n",
            "\n",
            "TRANSPOSE THE VECTOR\n",
            "\n",
            "Transpose of The Given Vector is:\n",
            " [[9]\n",
            " [8]\n",
            " [7]]\n",
            "Matrix is:\n",
            " [[6 7 9]\n",
            " [5 7 1]\n",
            " [2 0 4]]\n",
            "\n",
            "TRANSPOSE THE MATRIX\n",
            "\n",
            "Transpose of The Given  Matrix is:\n",
            " [[6 5 2]\n",
            " [7 7 0]\n",
            " [9 1 4]]\n",
            "\n",
            " CONJUGATE TRANSPOSE THE MATRIX \n",
            "\n",
            "Conjugate Transpose of The Given matrix is:\n",
            " [[6 7 9]\n",
            " [5 7 1]\n",
            " [2 0 4]]\n"
          ]
        }
      ],
      "source": [
        "import numpy as np\n",
        "from sympy import Matrix\n",
        "from sympy import *\n",
        "\n",
        "\n",
        "#1.Create and transform vectors and matrices and transpose them:\n",
        "\n",
        "#Creating a Vector\n",
        "vector = np.matrix([7, 3, 2])\n",
        "print(\"Vector is:\\n\", vector )\n",
        "\n",
        "\n",
        "# Transpose the Vector\n",
        "print(\"\\nTRANSPOSE THE VECTOR\\n\")\n",
        "\n",
        "vector_transpose = vector.T\n",
        "print(\"Transpose of The Given Vector is:\\n\", vector_transpose)\n",
        "\n",
        "# Creating a Matrix\n",
        "mat1 = np.matrix([[6, 7, 9], [5, 7, 1], [2, 0, 4]])\n",
        "print(\"Matrix is:\\n\",mat1)\n",
        "\n",
        "# Transpose of Matrix\n",
        "print(\"\\nTRANSPOSE THE MATRIX\\n\")\n",
        "matrix_transpose = np.transpose(mat1)\n",
        "print(\"Transpose of The Given  Matrix is:\\n\", matrix_transpose)\n",
        "\n",
        "# Conjugate Transpose of The Matrix\n",
        "\n",
        "print(\"\\n CONJUGATE TRANSPOSE THE MATRIX \\n\")\n",
        "matrix_conjugate_transpose = np.conj(mat1)\n",
        "print(\"Conjugate Transpose of The Given matrix is:\\n\", matrix_conjugate_transpose)"
      ]
    },
    {
      "cell_type": "code",
      "source": [
        "import numpy as np\n",
        "from sympy import Matrix\n",
        "from sympy import *\n",
        "\n",
        "#2.Generate The Matrix into Echelon Form and Find its Rank.\n",
        "\n",
        "# Creating a Matrix\n",
        "\n",
        "matrix= Matrix([[3, 7, 9,],[5, 2, 1,],[-2, -9, 8]])\n",
        "\n",
        "print(\"Matrix is: \\n \")\n",
        "print(np.array(matrix).astype(np.float64))\n",
        "\n",
        "#Finding Reduced Row Echelon Form of The Matrix\n",
        "\n",
        "def echelon_form(matrix):\n",
        "    print(\"\\n ROW REDUCED ECHELON FORM OF THE MATRIX\\n\")\n",
        "    print(\"Reduced Row Echelon Form is: \\n \")\n",
        "    return (np.array(matrix.rref()[0]).astype(np.float64))\n",
        "\n",
        "print(echelon_form(matrix))\n",
        "\n",
        "#Finding Rank of The Matrix\n",
        "\n",
        "def rank_matrix(matrix):\n",
        "    print(\"\\n RANK OF THE MATRIX\\n\")\n",
        "    print(\"Rank of matrix is: \\n \")\n",
        "    return np.linalg.matrix_rank(np.array(matrix).astype(np.float64))\n",
        "\n",
        "print(rank_matrix(matrix))"
      ],
      "metadata": {
        "colab": {
          "base_uri": "https://localhost:8080/"
        },
        "id": "7vlPnWTc7viY",
        "outputId": "cd76fdfd-0750-4c8b-95bf-6c75d82f5b1c"
      },
      "execution_count": 2,
      "outputs": [
        {
          "output_type": "stream",
          "name": "stdout",
          "text": [
            "Matrix is: \n",
            " \n",
            "[[ 3.  7.  9.]\n",
            " [ 5.  2.  1.]\n",
            " [-2. -9.  8.]]\n",
            "\n",
            " ROW REDUCED ECHELON FORM OF THE MATRIX\n",
            "\n",
            "Reduced Row Echelon Form is: \n",
            " \n",
            "[[1. 0. 0.]\n",
            " [0. 1. 0.]\n",
            " [0. 0. 1.]]\n",
            "\n",
            " RANK OF THE MATRIX\n",
            "\n",
            "Rank of matrix is: \n",
            " \n",
            "3\n"
          ]
        }
      ]
    },
    {
      "cell_type": "code",
      "source": [
        "import numpy as np\n",
        "\n",
        "#3.Find Cofactors, Determinant, Adjoint and Inverse of a Matrix.\n",
        "\n",
        "# Creating a Matrix\n",
        "matrix = np.array([[5,3,4], [3,1,-2], [-2,0,-3]])\n",
        "print(\"Matrix is: \\n\", matrix)\n",
        "\n",
        "#Determinant of a Matrix:\n",
        "determinant_matrix=np.linalg.det(matrix)\n",
        "print(\"\\n Determinant of The Given Matrix is:\\n\" , determinant_matrix)\n",
        "\n",
        "#Inverse of a Matrix:\n",
        "inverse_matrix=np.linalg.inv(matrix)\n",
        "print(\"\\n Inverse of The Given Matrix is: \\n\",inverse_matrix)\n",
        "\n",
        "#Adjoint of a matrix:\n",
        "adjoint_matrix = inverse_matrix*determinant_matrix\n",
        "print(\"\\n Adjoint of The Given Matrix is: \\n\" , adjoint_matrix)\n",
        "\n",
        "#Cofactor of a matrix:\n",
        "cofactor_matrix = np.transpose(adjoint_matrix)\n",
        "print(\"\\n Cofactor of The Given Matrix is: \\n\", cofactor_matrix)"
      ],
      "metadata": {
        "colab": {
          "base_uri": "https://localhost:8080/"
        },
        "id": "DL3ZsJp18Er4",
        "outputId": "02b20fca-aae3-46ad-ab9a-ca93606511f3"
      },
      "execution_count": 3,
      "outputs": [
        {
          "output_type": "stream",
          "name": "stdout",
          "text": [
            "Matrix is: \n",
            " [[ 5  3  4]\n",
            " [ 3  1 -2]\n",
            " [-2  0 -3]]\n",
            "\n",
            " Determinant of The Given Matrix is:\n",
            " 32.0\n",
            "\n",
            " Inverse of The Given Matrix is: \n",
            " [[-0.09375  0.28125 -0.3125 ]\n",
            " [ 0.40625 -0.21875  0.6875 ]\n",
            " [ 0.0625  -0.1875  -0.125  ]]\n",
            "\n",
            " Adjoint of The Given Matrix is: \n",
            " [[ -3.   9. -10.]\n",
            " [ 13.  -7.  22.]\n",
            " [  2.  -6.  -4.]]\n",
            "\n",
            " Cofactor of The Given Matrix is: \n",
            " [[ -3.  13.   2.]\n",
            " [  9.  -7.  -6.]\n",
            " [-10.  22.  -4.]]\n"
          ]
        }
      ]
    },
    {
      "cell_type": "code",
      "source": [
        "import numpy as np\n",
        "\n",
        "print(\"\\n -----GAUSS ELIMINATION METHOD-----\\n\")\n",
        "\n",
        "A = np.matrix(input(\"Write elements separated by spaces and separate rows with semi-colon: \\n\"))\n",
        "print(\"Matrix 1 is: \\n\", A)\n",
        "#Example_A = 1 1 1;2 -3 4;3 4 5\n",
        "\n",
        "B = np.matrix(input(\"\\n Write elements separated by semi-colon: \\n\"))\n",
        "print(\"Matrix 2 is: \\n\", B)  \n",
        "#Example_B = 9;13;40\n",
        "\n",
        "# Applying Gauss Elimination\n",
        "\n",
        "# Solve the system of linear equations using Gaussian elimination method in NumPy\n",
        "x = np.linalg.solve(A, B)\n",
        "#Augmented_A:B = 1 1 1 9;2 -3 4 13;3 4 5 40\n",
        "\n",
        "# Print the solution vector\n",
        "print(\"\\n Solution vector: \\n\")\n",
        "print(x)\n",
        "#Solution_X = 1;3;5\n"
      ],
      "metadata": {
        "colab": {
          "base_uri": "https://localhost:8080/"
        },
        "id": "nYhqM9A48o9w",
        "outputId": "39b3cfa7-f46c-45ce-cbb1-de1de105de55"
      },
      "execution_count": 6,
      "outputs": [
        {
          "output_type": "stream",
          "name": "stdout",
          "text": [
            "\n",
            " -----GAUSS ELIMINATION METHOD-----\n",
            "\n",
            "Write elements separated by spaces and separate rows with semi-colon: \n",
            " 1 1 1;2 -3 4;3 4 5\n",
            "Matrix 1 is: \n",
            " [[ 1  1  1]\n",
            " [ 2 -3  4]\n",
            " [ 3  4  5]]\n",
            "\n",
            " Write elements separated by semi-colon: \n",
            "5;8;9\n",
            "Matrix 2 is: \n",
            " [[5]\n",
            " [8]\n",
            " [9]]\n",
            "\n",
            " Solution vector: \n",
            "\n",
            "[[ 8.33333333]\n",
            " [-0.66666667]\n",
            " [-2.66666667]]\n"
          ]
        }
      ]
    },
    {
      "cell_type": "code",
      "source": [
        "import numpy as np\n",
        "print(\"\\n-----GAUSS-JORDAN METHOD-----\\n\")\n",
        "\n",
        "A = np.matrix(input(\"Write elements separated by spaces and separate rows with semi-colon: \"))\n",
        "print(\"Matrix A is \\n: \", A, \"\\n\")\n",
        "#Example_A = 1 1 1;2 -3 4;3 4 5\n",
        "\n",
        "B = np.matrix(input(\"\\n Write elements separated by semi-colon: \"))\n",
        "print(\"Matrix B is: \\n\", B, \"\\n\") \n",
        "#Example_B = 9;13;40\n",
        "\n",
        "#Computing the inverse of A using numpy.linalg.inv()\n",
        "A_inv = np.linalg.inv(A)\n",
        "print(\"\\n Inverse of Matrix A is: \\n {}\".format(A_inv))\n",
        "\n",
        "#Computing the solution vector x using the Gauss-Jordan method\n",
        "x = np.dot(A_inv, B)\n",
        "\n",
        "# Printing the solution vector\n",
        "print(\"\\n Solution vector: \\n\")\n",
        "print(x)\n",
        "#Solution_X = 1;3;5"
      ],
      "metadata": {
        "colab": {
          "base_uri": "https://localhost:8080/"
        },
        "id": "VEWU8XQk9ncp",
        "outputId": "fa4ace0a-e89f-49d5-9764-4672bbabafd3"
      },
      "execution_count": 8,
      "outputs": [
        {
          "output_type": "stream",
          "name": "stdout",
          "text": [
            "\n",
            "-----GAUSS-JORDAN METHOD-----\n",
            "\n",
            "Write elements separated by spaces and separate rows with semi-colon: 6 9 6; 5 3 7; 1 2 8\n",
            "Matrix A is \n",
            ":  [[6 9 6]\n",
            " [5 3 7]\n",
            " [1 2 8]] \n",
            "\n",
            "\n",
            " Write elements separated by semi-colon: 5;7;8\n",
            "Matrix B is: \n",
            " [[5]\n",
            " [7]\n",
            " [8]] \n",
            "\n",
            "\n",
            " Inverse of Matrix A is: \n",
            " [[-0.05128205  0.30769231 -0.23076923]\n",
            " [ 0.16923077 -0.21538462  0.06153846]\n",
            " [-0.03589744  0.01538462  0.13846154]]\n",
            "\n",
            " Solution vector: \n",
            "\n",
            "[[ 0.05128205]\n",
            " [-0.16923077]\n",
            " [ 1.03589744]]\n"
          ]
        }
      ]
    },
    {
      "cell_type": "code",
      "source": [
        "import numpy as np\n",
        "from sympy import Matrix\n",
        "from sympy import *\n",
        "\n",
        "#6.Generate Basis of Column Space, Null Space, Row Space and Left Null Space of a Matrix Space\n",
        "\n",
        "matrix = Matrix([[1, 2, -1], [-2, -4, 2], [3, 6, -3]])\n",
        "print(\"Matrix is:\\n\", matrix)\n",
        "\n",
        "#To Find The Column Space of The Matrix:\n",
        "\n",
        "print(\"\\n COLUMN SPACE OF THE MATRIX\\n\")\n",
        "matrix_columnspace=matrix.columnspace()\n",
        "print(\"\\nThe Column Space of the Matrix is:\\n\",matrix_columnspace, \"\\n\")\n",
        "\n",
        "#To Find The Row Space of The Matrix:\n",
        "\n",
        "print(\"\\n ROW SPACE OF THE MATRIX\\n\")\n",
        "matrix_rowspace=matrix.rowspace()\n",
        "print(\"\\nThe Row Space of the Matrix is:\\n\",matrix_rowspace)\n",
        "\n",
        "#To Find The Null Space of The Matrix:\n",
        "\n",
        "print(\"\\n NULL SPACE OF THE MATRIX\\n\")\n",
        "matrix_nullspace=matrix.nullspace()\n",
        "print(\"\\nThe Null Space of the Matrix is:\\n\",matrix_nullspace)\n",
        "\n",
        "\n",
        "#To Find The Left Null Space of The Matrix:\n",
        "\n",
        "print(\"\\n LEFT NULL SPACE OF THE MATRIX\\n\")\n",
        "AB = matrix.T\n",
        "matrix_leftnullspace = AB.nullspace()\n",
        "print(\"\\nMatrix Transpose is :\\n \")\n",
        "print(AB)\n",
        "\n",
        "print(\"\\nLeft Null Space of the Matrix is: \\n\")\n",
        "print(matrix_leftnullspace)  "
      ],
      "metadata": {
        "colab": {
          "base_uri": "https://localhost:8080/"
        },
        "id": "uiRMj0qX-FZk",
        "outputId": "f7e80254-4f78-43bc-a27c-515365e4366c"
      },
      "execution_count": 18,
      "outputs": [
        {
          "output_type": "stream",
          "name": "stdout",
          "text": [
            "Matrix is:\n",
            " Matrix([[1, 2, -1], [-2, -4, 2], [3, 6, -3]])\n",
            "\n",
            " COLUMN SPACE OF THE MATRIX\n",
            "\n",
            "\n",
            "The Column Space of the Matrix is:\n",
            " [Matrix([\n",
            "[ 1],\n",
            "[-2],\n",
            "[ 3]])] \n",
            "\n",
            "\n",
            " ROW SPACE OF THE MATRIX\n",
            "\n",
            "\n",
            "The Row Space of the Matrix is:\n",
            " [Matrix([[1, 2, -1]])]\n",
            "\n",
            " NULL SPACE OF THE MATRIX\n",
            "\n",
            "\n",
            "The Null Space of the Matrix is:\n",
            " [Matrix([\n",
            "[-2],\n",
            "[ 1],\n",
            "[ 0]]), Matrix([\n",
            "[1],\n",
            "[0],\n",
            "[1]])]\n",
            "\n",
            " LEFT NULL SPACE OF THE MATRIX\n",
            "\n",
            "\n",
            "Matrix Transpose is :\n",
            " \n",
            "Matrix([[1, -2, 3], [2, -4, 6], [-1, 2, -3]])\n",
            "\n",
            "Left Null Space of the Matrix is: \n",
            "\n",
            "[Matrix([\n",
            "[2],\n",
            "[1],\n",
            "[0]]), Matrix([\n",
            "[-3],\n",
            "[ 0],\n",
            "[ 1]])]\n"
          ]
        }
      ]
    },
    {
      "cell_type": "code",
      "source": [
        "import numpy as np\n",
        "\n",
        "def check_linear_dependence(vectors):\n",
        "    # Create a matrix from the vectors\n",
        "    matrix = np.array(vectors).T\n",
        "    \n",
        "    rank = np.linalg.matrix_rank(matrix)\n",
        "    # Check if the columns are linearly dependent\n",
        "    if rank < matrix.shape[1]:\n",
        "        print(\"The columns of the matrix are linearly dependent.\\n\")\n",
        "    else:\n",
        "        print(\"The columns of the matrix are linearly independent.\\n\")\n",
        "\n",
        "# Example usage\n",
        "vectors = [[1, 2, 3], [2, 4, 6], [3, 5, 7]]\n",
        "check_linear_dependence(vectors)  # The vectors are linearly dependent.\n",
        "\n",
        "vectors = [[1, 2, 3]]\n",
        "check_linear_dependence(vectors)  # The vectors are linearly independent.\n",
        "\n",
        "# define the vectors as numpy arrays\n",
        "v1 = np.array([[1, 2, 3], [2, -4, -9], [5, 9, -7]])\n",
        "v2 = np.array([[4, 5, 6], [1, 4, 6], [-9, -1, 0]])\n",
        "\n",
        "# define the coefficients\n",
        "a = int(input(\"Enter a coefficient for v1: \"))\n",
        "b = int(input(\"Enter another coefficient for v2: \"))\n",
        "\n",
        "# calculate the linear combination\n",
        "linear_combination = a*v1 + b*v2\n",
        "\n",
        "print(\"Linear combination of ({} \\n and \\n {}) is: \\n \\n\".format(v1, v2), linear_combination)"
      ],
      "metadata": {
        "colab": {
          "base_uri": "https://localhost:8080/"
        },
        "id": "J1kApHoM-i04",
        "outputId": "083479dd-ba62-4efc-8335-51ed7354ab87"
      },
      "execution_count": 9,
      "outputs": [
        {
          "output_type": "stream",
          "name": "stdout",
          "text": [
            "The columns of the matrix are linearly dependent.\n",
            "\n",
            "The columns of the matrix are linearly independent.\n",
            "\n",
            "Enter a coefficient for v1: 2\n",
            "Enter another coefficient for v2: 3\n",
            "Linear combination of ([[ 1  2  3]\n",
            " [ 2 -4 -9]\n",
            " [ 5  9 -7]] \n",
            " and \n",
            " [[ 4  5  6]\n",
            " [ 1  4  6]\n",
            " [-9 -1  0]]) is: \n",
            " \n",
            " [[ 14  19  24]\n",
            " [  7   4   0]\n",
            " [-17  15 -14]]\n"
          ]
        }
      ]
    },
    {
      "cell_type": "code",
      "source": [
        "import numpy as np\n",
        "#8. Finding the orthonormal basis of a given vector space using\n",
        "#Gram-Schmidt Orthogonalization process.\n",
        "\n",
        "\n",
        "#Declaring sub-spaces:\n",
        "v1 = [1,1,1,1]\n",
        "print(\"Sub-space v1 is: \", v1)\n",
        "v2 = [1,1,-1,-1]\n",
        "print(\"Sub-space v2 is: \", v2)\n",
        "v3 = [0,-1,2,1]\n",
        "print(\"Sub-space v3 is: \", v3, \"\\n\")\n",
        "\n",
        "#Declaring Vector-space:\n",
        "v = np.array([v1,v2,v3])\n",
        "print(\"Vector-space V is: \\n\", v, \"\\n\")\n",
        "\n",
        "#Converting sub-spaces to their orthonormal form:\n",
        "u1 = v1/np.linalg.norm(v1)\n",
        "print(\"Orthonormal sub-space of v1 is: \", u1)\n",
        "\n",
        "e2 = v2 - np.dot(np.dot(u1,v2),u1)\n",
        "u2 = e2/np.linalg.norm(e2)\n",
        "print(\"Orthonormal sub-space of v2 is: \", u2)\n",
        "\n",
        "e3 = v3 - (np.dot(np.dot(u1,v3),u1) + np.dot(np.dot(u2,v3),u2))\n",
        "u3 = e3/np.linalg.norm(e3)\n",
        "print(\"Orthonormal sub-space of v3 is: \", u3, \"\\n\")\n",
        "\n",
        "#Testing for orthonormality: Dot product of any 2 vetor \n",
        "#should be zero and they should be unit vector. \n",
        "print(\"Testing if the generated vectors are orthonormal: \\n\")\n",
        "test1 = np.dot(u1,u2)\n",
        "print(\"Dot product of u1 & u2 is {} and norm of u is {}\".format(test1, np.linalg.norm(u1)))\n",
        "test2 = np.dot(u1,u3)\n",
        "print(\"Dot product of u1 & u3 is {} and norm of u is {}\".format(test2, np.linalg.norm(u2)))\n",
        "test3 = np.dot(u2,u3)\n",
        "print(\"Dot product of u2 & u3 is {} and norm of u is {}\".format(test3, np.linalg.norm(u3)), \"\\n\")\n",
        "\n",
        "#Finally, outputing the generated Orthonormal Vector-space:\n",
        "u = np.array([u1,u2,u3])\n",
        "print(\"Orthonormalised Vector-space V is: \\n\", u)"
      ],
      "metadata": {
        "colab": {
          "base_uri": "https://localhost:8080/"
        },
        "id": "yvn0Nso4-zdu",
        "outputId": "cca83448-cba1-4e15-f6d8-8ce460ac3e72"
      },
      "execution_count": 10,
      "outputs": [
        {
          "output_type": "stream",
          "name": "stdout",
          "text": [
            "Sub-space v1 is:  [1, 1, 1, 1]\n",
            "Sub-space v2 is:  [1, 1, -1, -1]\n",
            "Sub-space v3 is:  [0, -1, 2, 1] \n",
            "\n",
            "Vector-space V is: \n",
            " [[ 1  1  1  1]\n",
            " [ 1  1 -1 -1]\n",
            " [ 0 -1  2  1]] \n",
            "\n",
            "Orthonormal sub-space of v1 is:  [0.5 0.5 0.5 0.5]\n",
            "Orthonormal sub-space of v2 is:  [ 0.5  0.5 -0.5 -0.5]\n",
            "Orthonormal sub-space of v3 is:  [ 0.5 -0.5  0.5 -0.5] \n",
            "\n",
            "Testing if the generated vectors are orthonormal: \n",
            "\n",
            "Dot product of u1 & u2 is 0.0 and norm of u is 1.0\n",
            "Dot product of u1 & u3 is 0.0 and norm of u is 1.0\n",
            "Dot product of u2 & u3 is 0.0 and norm of u is 1.0 \n",
            "\n",
            "Orthonormalised Vector-space V is: \n",
            " [[ 0.5  0.5  0.5  0.5]\n",
            " [ 0.5  0.5 -0.5 -0.5]\n",
            " [ 0.5 -0.5  0.5 -0.5]]\n"
          ]
        }
      ]
    },
    {
      "cell_type": "code",
      "source": [
        "import numpy as np\n",
        "# Defining a matrix\n",
        "A = np.array([[1, 2], [3, 4]])\n",
        "\n",
        "# Finding the eigenvalues and eigenvectors\n",
        "eigenvalues, eigenvectors = np.linalg.eig(A)\n",
        "print(\"Matrix A is: \\n\", A)\n",
        "print(\"\\n Eigenvalues are: \\n\", eigenvalues)\n",
        "print(\"\\n Eigenvectors are: \\n\", eigenvectors)\n",
        "\n",
        "diag_eigval = np.diag(eigenvalues)\n",
        "p_inv = np.linalg.inv(eigenvectors)\n",
        "p = eigenvectors\n",
        "    \n",
        "# Checking if the matrix is diagonalizable\n",
        "if np.allclose(diag_eigval, np.dot(p_inv, np.dot(A, p))):\n",
        "    print(\"\\n The matrix is diagonalizable.\")\n",
        "else:\n",
        "    print(\"\\n The matrix is not diagonalizable. \\n\")\n",
        "    \n",
        "# Checking if the given matrix satisfies CHT\n",
        "B = np.array([[2, -1, 0], [1, 4, -1], [0, 1, 3]])\n",
        "bp = np.poly(B)\n",
        "print(\"\\n Characteristic polynomial of B: \", bp, \"\\n\")\n",
        "subs_b = np.dot(np.dot(B, B), B) -9*(np.dot(B, B)) +28*B -29*np.eye(3)\n",
        "\n",
        "#substituting the matrix B into the characteristic polynomial bp \n",
        "# and checking if the resulting expression is equivalent to zero.\n",
        "\n",
        "if np.allclose(subs_b, np.zeros((3, 3))):\n",
        "    print(\"The matrix B satisfies Cayley-Hamilton Theorem.\")\n",
        "else:\n",
        "    print(\"The matrix B doesn't satisfy Cayley-Hamilton Theorem.\")"
      ],
      "metadata": {
        "colab": {
          "base_uri": "https://localhost:8080/"
        },
        "id": "2D_fEJP__Bhd",
        "outputId": "b9442ca2-52cf-4fef-fe2c-1acce8824a80"
      },
      "execution_count": 11,
      "outputs": [
        {
          "output_type": "stream",
          "name": "stdout",
          "text": [
            "Matrix A is: \n",
            " [[1 2]\n",
            " [3 4]]\n",
            "\n",
            " Eigenvalues are: \n",
            " [-0.37228132  5.37228132]\n",
            "\n",
            " Eigenvectors are: \n",
            " [[-0.82456484 -0.41597356]\n",
            " [ 0.56576746 -0.90937671]]\n",
            "\n",
            " The matrix is diagonalizable.\n",
            "\n",
            " Characteristic polynomial of B:  [  1.  -9.  28. -29.] \n",
            "\n",
            "The matrix B satisfies Cayley-Hamilton Theorem.\n"
          ]
        }
      ]
    },
    {
      "cell_type": "code",
      "source": [
        "import numpy as np\n",
        "\n",
        "# Define the message to be encoded as a column vector\n",
        "message = np.array([[1], [2], [3]])\n",
        "\n",
        "# Define the encoding matrix (must be non-singular)\n",
        "encoding_matrix = np.array([[1, 2, 3], [0, 1, 4], [5, 6, 0]])\n",
        "\n",
        "# Encode the message by multiplying it with the encoding matrix\n",
        "encoded_message = np.dot(encoding_matrix, message)\n",
        "\n",
        "# Calculate the inverse of the encoding matrix\n",
        "inv_encoding_matrix = np.linalg.inv(encoding_matrix)\n",
        "\n",
        "# Decode the message by multiplying the encoded message with the inverse of the encoding matrix\n",
        "decoded_message = np.dot(inv_encoding_matrix, encoded_message)\n",
        "\n",
        "# Print the encoded message\n",
        "print(\"Encoded message: \\n\")\n",
        "print(encoded_message)\n",
        "\n",
        "# Print the decoded message\n",
        "print(\"\\n Decoded message: \\n\")\n",
        "print(decoded_message)"
      ],
      "metadata": {
        "colab": {
          "base_uri": "https://localhost:8080/"
        },
        "id": "LbntvAqy_KCK",
        "outputId": "c1c7e56c-de7c-4043-93a8-5a71f72230e8"
      },
      "execution_count": 12,
      "outputs": [
        {
          "output_type": "stream",
          "name": "stdout",
          "text": [
            "Encoded message: \n",
            "\n",
            "[[14]\n",
            " [14]\n",
            " [17]]\n",
            "\n",
            " Decoded message: \n",
            "\n",
            "[[1.]\n",
            " [2.]\n",
            " [3.]]\n"
          ]
        }
      ]
    },
    {
      "cell_type": "code",
      "source": [
        "import sympy\n",
        "\n",
        "# Define the symbols x, y, and z\n",
        "x, y, z = sympy.symbols('x y z')\n",
        "\n",
        "# Define the scalar field f\n",
        "f = x**2 + 2*y**3*z - 5*z\n",
        "\n",
        "# Compute the gradient of f\n",
        "grad_f = [sympy.diff(f, x), sympy.diff(f, y), sympy.diff(f, z)]\n",
        "\n",
        "# Print the gradient of f\n",
        "print(grad_f)"
      ],
      "metadata": {
        "colab": {
          "base_uri": "https://localhost:8080/"
        },
        "id": "XNPMcmNm_SSQ",
        "outputId": "89bfa9f9-91dd-4457-e191-e24a3646a6ab"
      },
      "execution_count": 13,
      "outputs": [
        {
          "output_type": "stream",
          "name": "stdout",
          "text": [
            "[2*x, 6*y**2*z, 2*y**3 - 5]\n"
          ]
        }
      ]
    },
    {
      "cell_type": "code",
      "source": [
        "import numpy as np\n",
        "import sympy\n",
        "#12.>Compute Divergence of a vector field\n",
        "\n",
        "print(\"\\n DIVERGENCE  OF THE MATRIX\\n\")\n",
        "\n",
        "def divergence(F):\n",
        "    # Computing the partial derivatives of the vector field components\n",
        "    dPdx = sympy.diff(F[0], x)\n",
        "    dQdy = sympy.diff(F[1], y)\n",
        "    dRdz = sympy.diff(F[2], z)\n",
        "    \n",
        "    #Computing the divergence of the vector field\n",
        "    divF = dPdx + dQdy + dRdz\n",
        "    return divF\n",
        "x, y, z = sympy.symbols('x y z')\n",
        "F = sympy.Matrix([(x**2)*z, (-2)*(y**3)*(z**2), x*(y**2)*z])\n",
        "\n",
        "# Computing the divergence of F\n",
        "divF = divergence(F)\n",
        "\n",
        "print(\"The divergence of the vector field {} is: \\n\".format(F))\n",
        "print(divF.simplify())"
      ],
      "metadata": {
        "colab": {
          "base_uri": "https://localhost:8080/"
        },
        "id": "Ji-M_oRk_ZvO",
        "outputId": "a8270234-39f1-40a4-f039-67908c106693"
      },
      "execution_count": 14,
      "outputs": [
        {
          "output_type": "stream",
          "name": "stdout",
          "text": [
            "\n",
            " DIVERGENCE  OF THE MATRIX\n",
            "\n",
            "The divergence of the vector field Matrix([[x**2*z], [-2*y**3*z**2], [x*y**2*z]]) is: \n",
            "\n",
            "x*y**2 + 2*x*z - 6*y**2*z**2\n"
          ]
        }
      ]
    },
    {
      "cell_type": "code",
      "source": [
        "import sympy as sp\n",
        "print(\"\\n CURL OF THE MATRIX\\n\")\n",
        "\n",
        "# Define the symbols\n",
        "x, y, z = sp.symbols('x y z')\n",
        "\n",
        "# Define the vector field\n",
        "A = sp.Matrix([x*z**3, -2*x**2*y*z, 2*y*z**4])\n",
        "\n",
        "# Compute the curl of the vector field\n",
        "curl_A = sp.Matrix([sp.diff(A[2], y) - sp.diff(A[1], z),\n",
        "                    sp.diff(A[0], z) - sp.diff(A[2], x),\n",
        "                    sp.diff(A[1], x) - sp.diff(A[0], y)])\n",
        "\n",
        "curl_A.simplify()\n",
        "print(\"The curl of the vector field {} is: \\n\".format(A))\n",
        "print(curl_A)"
      ],
      "metadata": {
        "colab": {
          "base_uri": "https://localhost:8080/"
        },
        "id": "yPI18VjZ_pW8",
        "outputId": "92a8f31b-1f2e-4aeb-ca94-565b1707fe20"
      },
      "execution_count": 16,
      "outputs": [
        {
          "output_type": "stream",
          "name": "stdout",
          "text": [
            "\n",
            " CURL OF THE MATRIX\n",
            "\n",
            "The curl of the vector field Matrix([[x*z**3], [-2*x**2*y*z], [2*y*z**4]]) is: \n",
            "\n",
            "Matrix([[2*x**2*y + 2*z**4], [3*x*z**2], [-4*x*y*z]])\n"
          ]
        }
      ]
    },
    {
      "cell_type": "code",
      "source": [],
      "metadata": {
        "id": "b_RChXz5B8gc"
      },
      "execution_count": 17,
      "outputs": []
    },
    {
      "cell_type": "code",
      "source": [],
      "metadata": {
        "id": "ozuOSe2PB9xC"
      },
      "execution_count": null,
      "outputs": []
    }
  ]
}